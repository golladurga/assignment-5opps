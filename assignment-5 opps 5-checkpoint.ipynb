{
 "cells": [
  {
   "cell_type": "code",
   "execution_count": 1,
   "id": "4e69701b",
   "metadata": {},
   "outputs": [
    {
     "name": "stdout",
     "output_type": "stream",
     "text": [
      "Initial Balance: 1000\n",
      "After Deposit: 1500\n",
      "After Withdrawal: 1300\n",
      "Savings Account Balance: 2000\n",
      "Interest Amount: 100.0\n"
     ]
    }
   ],
   "source": [
    "class Account:\n",
    "    def __init__(self, balance):\n",
    "        self.balance = balance\n",
    "\n",
    "    def getBalance(self):\n",
    "        return self.balance\n",
    "\n",
    "    def deposit(self, amount):\n",
    "        self.balance += amount\n",
    "\n",
    "    def withdrawal(self, amount):\n",
    "        self.balance -= amount\n",
    "\n",
    "\n",
    "class SavingsAccount(Account):\n",
    "    def __init__(self, balance, interest_rate):\n",
    "        super().__init__(balance)\n",
    "        self.interest_rate = interest_rate\n",
    "\n",
    "    def interestAmount(self):\n",
    "        return self.balance * self.interest_rate\n",
    "\n",
    "\n",
    "# Example usage\n",
    "account = Account(1000)\n",
    "print(\"Initial Balance:\", account.getBalance())\n",
    "\n",
    "account.deposit(500)\n",
    "print(\"After Deposit:\", account.getBalance())\n",
    "\n",
    "account.withdrawal(200)\n",
    "print(\"After Withdrawal:\", account.getBalance())\n",
    "\n",
    "savings_account = SavingsAccount(2000, 0.05)\n",
    "print(\"Savings Account Balance:\", savings_account.getBalance())\n",
    "print(\"Interest Amount:\", savings_account.interestAmount())"
   ]
  },
  {
   "cell_type": "code",
   "execution_count": null,
   "id": "4e27a29d",
   "metadata": {},
   "outputs": [],
   "source": []
  }
 ],
 "metadata": {
  "kernelspec": {
   "display_name": "Python 3 (ipykernel)",
   "language": "python",
   "name": "python3"
  },
  "language_info": {
   "codemirror_mode": {
    "name": "ipython",
    "version": 3
   },
   "file_extension": ".py",
   "mimetype": "text/x-python",
   "name": "python",
   "nbconvert_exporter": "python",
   "pygments_lexer": "ipython3",
   "version": "3.10.9"
  }
 },
 "nbformat": 4,
 "nbformat_minor": 5
}
