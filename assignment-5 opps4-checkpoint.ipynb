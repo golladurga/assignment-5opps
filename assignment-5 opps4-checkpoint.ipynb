{
 "cells": [
  {
   "cell_type": "code",
   "execution_count": 1,
   "id": "94fafd41",
   "metadata": {},
   "outputs": [
    {
     "name": "stdout",
     "output_type": "stream",
     "text": [
      "Account Title: Ashish\n",
      "Account Balance: 5000\n",
      "Savings Account Title: Ashish\n",
      "Savings Account Balance: 5000\n",
      "Savings Account Interest Rate: 5\n"
     ]
    }
   ],
   "source": [
    "class Account:\n",
    "    def __init__(self, title, balance):\n",
    "        self.title = title\n",
    "        self.balance = balance\n",
    "\n",
    "\n",
    "class SavingsAccount(Account):\n",
    "    def __init__(self, title, balance, interestRate):\n",
    "        super().__init__(title, balance)\n",
    "        self.interestRate = interestRate\n",
    "\n",
    "\n",
    "# Example usage\n",
    "account = Account(\"Ashish\", 5000)\n",
    "print(\"Account Title:\", account.title)\n",
    "print(\"Account Balance:\", account.balance)\n",
    "\n",
    "savings_account = SavingsAccount(\"Ashish\", 5000, 5)\n",
    "print(\"Savings Account Title:\", savings_account.title)\n",
    "print(\"Savings Account Balance:\", savings_account.balance)\n",
    "print(\"Savings Account Interest Rate:\", savings_account.interestRate)"
   ]
  },
  {
   "cell_type": "code",
   "execution_count": null,
   "id": "10d825a5",
   "metadata": {},
   "outputs": [],
   "source": []
  }
 ],
 "metadata": {
  "kernelspec": {
   "display_name": "Python 3 (ipykernel)",
   "language": "python",
   "name": "python3"
  },
  "language_info": {
   "codemirror_mode": {
    "name": "ipython",
    "version": 3
   },
   "file_extension": ".py",
   "mimetype": "text/x-python",
   "name": "python",
   "nbconvert_exporter": "python",
   "pygments_lexer": "ipython3",
   "version": "3.10.9"
  }
 },
 "nbformat": 4,
 "nbformat_minor": 5
}
